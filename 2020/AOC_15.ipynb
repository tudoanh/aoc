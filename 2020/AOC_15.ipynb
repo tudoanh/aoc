{
 "cells": [
  {
   "cell_type": "code",
   "execution_count": 1,
   "metadata": {},
   "outputs": [],
   "source": [
    "parse = lambda x: [int(i) for i in x.split(',')]"
   ]
  },
  {
   "cell_type": "code",
   "execution_count": 2,
   "metadata": {},
   "outputs": [],
   "source": [
    "def find(inp, nth):\n",
    "    turn = len(inp) + 1\n",
    "    mem = {d: [i] for i, d in enumerate(inp, 1)}\n",
    "    spoken = inp[-1]\n",
    "\n",
    "    while turn <= nth:\n",
    "        if len(mem[spoken]) == 1:\n",
    "            spoken = 0\n",
    "        else:\n",
    "            spoken = mem[spoken][-1] - mem[spoken][-2]\n",
    "        if spoken not in mem:\n",
    "            mem[spoken] = [turn]\n",
    "        else:\n",
    "            mem[spoken] = [mem[spoken][-1]] + [turn]\n",
    "        turn += 1\n",
    "    return spoken"
   ]
  },
  {
   "cell_type": "code",
   "execution_count": null,
   "metadata": {},
   "outputs": [],
   "source": [
    "inp = parse('9,19,1,6,0,5,4')\n",
    "find(inp, 30000000)"
   ]
  }
 ],
 "metadata": {
  "kernelspec": {
   "display_name": "Python 3",
   "language": "python",
   "name": "python3"
  },
  "language_info": {
   "codemirror_mode": {
    "name": "ipython",
    "version": 3
   },
   "file_extension": ".py",
   "mimetype": "text/x-python",
   "name": "python",
   "nbconvert_exporter": "python",
   "pygments_lexer": "ipython3",
   "version": "3.9.0"
  }
 },
 "nbformat": 4,
 "nbformat_minor": 4
}
