{
 "cells": [
  {
   "cell_type": "code",
   "execution_count": 1,
   "metadata": {},
   "outputs": [],
   "source": [
    "import re"
   ]
  },
  {
   "cell_type": "code",
   "execution_count": 2,
   "metadata": {},
   "outputs": [],
   "source": [
    "inp = \"\"\"mask = XXXXXXXXXXXXXXXXXXXXXXXXXXXXX1XXXX0X\n",
    "mem[8] = 11\n",
    "mem[7] = 101\n",
    "mem[8] = 0\"\"\".split('\\n')"
   ]
  },
  {
   "cell_type": "code",
   "execution_count": 3,
   "metadata": {},
   "outputs": [],
   "source": [
    "def process(ins):\n",
    "    mem = {}\n",
    "    for l in ins:\n",
    "        if l.startswith('mask'):\n",
    "            mask = l.split(' = ')[1]\n",
    "        else:\n",
    "            a = re.findall('\\d+', l)\n",
    "            x = int(a[0])\n",
    "            y = int(a[1])\n",
    "            b = format(y, '036b')\n",
    "\n",
    "            t = ''\n",
    "            for idx, i in enumerate(mask):\n",
    "                j = b[idx]\n",
    "                if i == 'X':\n",
    "                    t += j\n",
    "                else:\n",
    "                    t += i\n",
    "            mem[x] = int(t, 2)\n",
    "    return mem, sum(mem.values())"
   ]
  },
  {
   "cell_type": "code",
   "execution_count": 4,
   "metadata": {
    "scrolled": true
   },
   "outputs": [
    {
     "data": {
      "text/plain": [
       "({8: 64, 7: 101}, 165)"
      ]
     },
     "execution_count": 4,
     "metadata": {},
     "output_type": "execute_result"
    }
   ],
   "source": [
    "process(inp)"
   ]
  },
  {
   "cell_type": "code",
   "execution_count": 5,
   "metadata": {},
   "outputs": [],
   "source": [
    "from collections import Counter\n",
    "from itertools import permutations, product"
   ]
  },
  {
   "cell_type": "markdown",
   "metadata": {},
   "source": [
    "## Part 2"
   ]
  },
  {
   "cell_type": "code",
   "execution_count": 6,
   "metadata": {},
   "outputs": [],
   "source": [
    "inp = \"\"\"mask = 000000000000000000000000000000X1001X\n",
    "mem[42] = 100\n",
    "mask = 00000000000000000000000000000000X0XX\n",
    "mem[26] = 1\"\"\".split('\\n')"
   ]
  },
  {
   "cell_type": "code",
   "execution_count": 7,
   "metadata": {},
   "outputs": [],
   "source": [
    "def process(ins):\n",
    "    mem = {}\n",
    "    for l in ins:\n",
    "        if l.startswith('mask'):\n",
    "            mask = l.split(' = ')[1]\n",
    "        else:\n",
    "            a = re.findall('\\d+', l)\n",
    "            x = int(a[0])\n",
    "            y = int(a[1])\n",
    "            m = format(x, '036b')\n",
    "            b = format(y, '036b')\n",
    "            t = ''\n",
    "            for idx, i in enumerate(mask):\n",
    "                j = m[idx]\n",
    "                if i == 'X':\n",
    "                    t += 'X'\n",
    "                elif i == '0':\n",
    "                    t += j\n",
    "                else:\n",
    "                    t += '1'\n",
    "            for k in p(t):\n",
    "                k = int(k, 2)\n",
    "                mem[k] = y\n",
    "    return mem, sum(mem.values())"
   ]
  },
  {
   "cell_type": "code",
   "execution_count": 8,
   "metadata": {},
   "outputs": [],
   "source": [
    "def p(a):\n",
    "    str_format = a.replace('X', '{}')\n",
    "    s = set()\n",
    "    c = Counter(a)\n",
    "    for i in list(product([0, 1], repeat=c['X'])): \n",
    "        s.add(str_format.format(*i))\n",
    "    return s"
   ]
  },
  {
   "cell_type": "code",
   "execution_count": 9,
   "metadata": {},
   "outputs": [
    {
     "data": {
      "text/plain": [
       "({59: 100, 27: 1, 26: 1, 58: 100, 16: 1, 24: 1, 19: 1, 17: 1, 18: 1, 25: 1},\n",
       " 208)"
      ]
     },
     "execution_count": 9,
     "metadata": {},
     "output_type": "execute_result"
    }
   ],
   "source": [
    "process(inp)"
   ]
  },
  {
   "cell_type": "code",
   "execution_count": null,
   "metadata": {},
   "outputs": [],
   "source": []
  }
 ],
 "metadata": {
  "kernelspec": {
   "display_name": "Python 3",
   "language": "python",
   "name": "python3"
  },
  "language_info": {
   "codemirror_mode": {
    "name": "ipython",
    "version": 3
   },
   "file_extension": ".py",
   "mimetype": "text/x-python",
   "name": "python",
   "nbconvert_exporter": "python",
   "pygments_lexer": "ipython3",
   "version": "3.9.0"
  }
 },
 "nbformat": 4,
 "nbformat_minor": 4
}
