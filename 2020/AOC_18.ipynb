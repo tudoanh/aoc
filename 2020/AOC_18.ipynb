{
 "cells": [
  {
   "cell_type": "markdown",
   "metadata": {},
   "source": [
    "## Part 1"
   ]
  },
  {
   "cell_type": "code",
   "execution_count": 1,
   "metadata": {},
   "outputs": [],
   "source": [
    "import collections\n",
    "\n",
    "\n",
    "def find_parens(s):\n",
    "    toret = {}\n",
    "    pstack = []\n",
    "\n",
    "    for i, c in enumerate(s):\n",
    "        if c == '(':\n",
    "            pstack.append(i)\n",
    "        elif c == ')':\n",
    "            if len(pstack) == 0:\n",
    "                raise IndexError(\"No matching closing parens at: \" + str(i))\n",
    "            toret[pstack.pop()] = i\n",
    "\n",
    "    if len(pstack) > 0:\n",
    "        raise IndexError(\"No matching opening parens at: \" + str(pstack.pop()))\n",
    "    parens = collections.OrderedDict(sorted(toret.items(), reverse=True))\n",
    "    return parens"
   ]
  },
  {
   "cell_type": "code",
   "execution_count": 2,
   "metadata": {},
   "outputs": [],
   "source": [
    "def cal(e):\n",
    "    if '(' not in e and ')' not in e:\n",
    "        e = e.split()\n",
    "        for i in range(len(e) // 2):\n",
    "            val = str(eval(''.join(e[:3])))\n",
    "            e[0] = val\n",
    "            del e[1:3]\n",
    "        return e[0]\n",
    "    else:\n",
    "        parens = find_parens(e)\n",
    "        for p in parens:\n",
    "            val_in_p = cal(e[p + 1:parens[p]])\n",
    "            e = e[:p] + val_in_p + e[parens[p] + 1:]\n",
    "            parens = find_parens(e)\n",
    "        return cal(e)\n"
   ]
  },
  {
   "cell_type": "code",
   "execution_count": 3,
   "metadata": {},
   "outputs": [
    {
     "name": "stdout",
     "output_type": "stream",
     "text": [
      "71\n",
      "26\n",
      "437\n",
      "12240\n",
      "13632\n"
     ]
    }
   ],
   "source": [
    "a = '1 + 2 * 3 + 4 * 5 + 6'\n",
    "b = '2 * 3 + (4 * 5)'\n",
    "c = '5 + (8 * 3 + 9 + 3 * 4 * 3)'\n",
    "d = '5 * 9 * (7 * 3 * 3 + 9 * 3 + (8 + 6 * 4))'\n",
    "e = '((2 + 4 * 9) * (6 + 9 * 8 + 6) + 6) + 2 + 4 * 2'\n",
    "print(cal(a))\n",
    "print(cal(b))\n",
    "print(cal(c))\n",
    "print(cal(d))\n",
    "print(cal(e))"
   ]
  },
  {
   "cell_type": "code",
   "execution_count": 4,
   "metadata": {},
   "outputs": [
    {
     "data": {
      "text/plain": [
       "''"
      ]
     },
     "execution_count": 4,
     "metadata": {},
     "output_type": "execute_result"
    }
   ],
   "source": [
    "inp = open('inputs/input_18.txt').read().split('\\n')\n",
    "inp.pop()"
   ]
  },
  {
   "cell_type": "code",
   "execution_count": 5,
   "metadata": {},
   "outputs": [
    {
     "data": {
      "text/plain": [
       "3885386961962"
      ]
     },
     "execution_count": 5,
     "metadata": {},
     "output_type": "execute_result"
    }
   ],
   "source": [
    "s = 0\n",
    "for i in inp:\n",
    "    s += int(cal(i))\n",
    "s"
   ]
  },
  {
   "cell_type": "markdown",
   "metadata": {},
   "source": [
    "## Part 2"
   ]
  },
  {
   "cell_type": "code",
   "execution_count": 6,
   "metadata": {},
   "outputs": [],
   "source": [
    "from functools import reduce"
   ]
  },
  {
   "cell_type": "code",
   "execution_count": 7,
   "metadata": {},
   "outputs": [],
   "source": [
    "def cal2(e):\n",
    "    if '(' not in e and ')' not in e:\n",
    "        to_mul = []\n",
    "        e = e.split()\n",
    "        while len(e) > 0:\n",
    "            if '+' in e[:3]:\n",
    "                val = str(eval(''.join(e[:3])))\n",
    "                e[0] = val\n",
    "                del e[1:3]\n",
    "            else:\n",
    "                if len(e) == 3:\n",
    "                    to_mul.append(int(eval(''.join(e))))\n",
    "                    e = []\n",
    "                else:\n",
    "                    to_mul.append(int(e[0]))\n",
    "                    del e[:2]\n",
    "        if to_mul:\n",
    "            return str(reduce(lambda x, y: x * y, to_mul))\n",
    "        return e[0]\n",
    "    else:\n",
    "        parens = find_parens(e)\n",
    "        for p in parens:\n",
    "            val_in_p = cal2(e[p + 1:parens[p]])\n",
    "            e = e[:p] + val_in_p + e[parens[p] + 1:]\n",
    "            parens = find_parens(e)\n",
    "        return cal2(e)"
   ]
  },
  {
   "cell_type": "code",
   "execution_count": 8,
   "metadata": {},
   "outputs": [
    {
     "name": "stdout",
     "output_type": "stream",
     "text": [
      "231\n",
      "46\n",
      "1445\n",
      "669060\n",
      "23340\n"
     ]
    }
   ],
   "source": [
    "print(cal2(a))\n",
    "print(cal2(b))\n",
    "print(cal2(c))\n",
    "print(cal2(d))\n",
    "print(cal2(e))"
   ]
  },
  {
   "cell_type": "code",
   "execution_count": 9,
   "metadata": {
    "scrolled": true
   },
   "outputs": [
    {
     "data": {
      "text/plain": [
       "112899558798666"
      ]
     },
     "execution_count": 9,
     "metadata": {},
     "output_type": "execute_result"
    }
   ],
   "source": [
    "s = 0\n",
    "for i in inp:\n",
    "    s += int(cal2(i))\n",
    "s"
   ]
  },
  {
   "cell_type": "code",
   "execution_count": null,
   "metadata": {},
   "outputs": [],
   "source": []
  }
 ],
 "metadata": {
  "kernelspec": {
   "display_name": "Python 3",
   "language": "python",
   "name": "python3"
  },
  "language_info": {
   "codemirror_mode": {
    "name": "ipython",
    "version": 3
   },
   "file_extension": ".py",
   "mimetype": "text/x-python",
   "name": "python",
   "nbconvert_exporter": "python",
   "pygments_lexer": "ipython3",
   "version": "3.9.1"
  }
 },
 "nbformat": 4,
 "nbformat_minor": 4
}
