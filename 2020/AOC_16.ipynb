{
 "cells": [
  {
   "cell_type": "code",
   "execution_count": 1,
   "metadata": {},
   "outputs": [],
   "source": [
    "inp = \"\"\"class: 1-3 or 5-7\n",
    "row: 6-11 or 33-44\n",
    "seat: 13-40 or 45-50\n",
    "\n",
    "your ticket:\n",
    "7,1,14\n",
    "\n",
    "nearby tickets:\n",
    "7,3,47\n",
    "40,4,50\n",
    "55,2,20\n",
    "38,6,12\"\"\".split('\\n\\n')"
   ]
  },
  {
   "cell_type": "code",
   "execution_count": 2,
   "metadata": {},
   "outputs": [],
   "source": [
    "import re\n",
    "from itertools import chain\n",
    "\n",
    "def ranges(inp):\n",
    "    m = 0\n",
    "    valid = set()\n",
    "    for g in inp[0].split('\\n'):\n",
    "        a = re.findall('(\\d+)-(\\d+)', g)\n",
    "        for pair in a:\n",
    "            s, e = pair\n",
    "            s = int(s)\n",
    "            e = int(e) + 1\n",
    "            if e > m:\n",
    "                m = e\n",
    "            for i in range(s, e):\n",
    "                valid.add(i)\n",
    "    r = set(range(m)).difference(valid)\n",
    "    return r, m\n"
   ]
  },
  {
   "cell_type": "code",
   "execution_count": 3,
   "metadata": {},
   "outputs": [],
   "source": [
    "def tickets(inp):\n",
    "    tks = []\n",
    "    for t in inp[2].split('\\n')[1:]:\n",
    "        tks.append([int(i) for i in t.split(',')])\n",
    "    return tks\n"
   ]
  },
  {
   "cell_type": "code",
   "execution_count": 4,
   "metadata": {},
   "outputs": [],
   "source": [
    "def cond(r, m, ticket):\n",
    "    invalid = 0\n",
    "    for n in ticket:\n",
    "        if n in r or n >= m:\n",
    "            invalid += n\n",
    "    return invalid\n",
    "\n",
    "def cal(tickets, r, m):\n",
    "    s = [cond(r, m, i) for i in t]\n",
    "    return sum(s)"
   ]
  },
  {
   "cell_type": "code",
   "execution_count": 5,
   "metadata": {},
   "outputs": [
    {
     "data": {
      "text/plain": [
       "71"
      ]
     },
     "execution_count": 5,
     "metadata": {},
     "output_type": "execute_result"
    }
   ],
   "source": [
    "r, m = ranges(inp)\n",
    "t = tickets(inp)\n",
    "\n",
    "cal(t, r, m)"
   ]
  },
  {
   "cell_type": "code",
   "execution_count": null,
   "metadata": {},
   "outputs": [],
   "source": []
  }
 ],
 "metadata": {
  "kernelspec": {
   "display_name": "Python 3",
   "language": "python",
   "name": "python3"
  },
  "language_info": {
   "codemirror_mode": {
    "name": "ipython",
    "version": 3
   },
   "file_extension": ".py",
   "mimetype": "text/x-python",
   "name": "python",
   "nbconvert_exporter": "python",
   "pygments_lexer": "ipython3",
   "version": "3.9.0"
  }
 },
 "nbformat": 4,
 "nbformat_minor": 4
}
