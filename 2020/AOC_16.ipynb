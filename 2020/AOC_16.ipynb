{
 "cells": [
  {
   "cell_type": "markdown",
   "metadata": {},
   "source": [
    "## Part 1"
   ]
  },
  {
   "cell_type": "code",
   "execution_count": 1,
   "metadata": {},
   "outputs": [],
   "source": [
    "f = open('inputs/input_16.txt')\n",
    "data = f.read().split('\\n\\n')"
   ]
  },
  {
   "cell_type": "code",
   "execution_count": 2,
   "metadata": {},
   "outputs": [],
   "source": [
    "inp = \"\"\"class: 1-3 or 5-7\n",
    "row: 6-11 or 33-44\n",
    "seat: 13-40 or 45-50\n",
    "\n",
    "your ticket:\n",
    "7,1,14\n",
    "\n",
    "nearby tickets:\n",
    "7,3,47\n",
    "40,4,50\n",
    "55,2,20\n",
    "38,6,12\"\"\".split('\\n\\n')"
   ]
  },
  {
   "cell_type": "code",
   "execution_count": 3,
   "metadata": {},
   "outputs": [],
   "source": [
    "inp = data"
   ]
  },
  {
   "cell_type": "code",
   "execution_count": 4,
   "metadata": {},
   "outputs": [],
   "source": [
    "import re\n",
    "from itertools import chain\n",
    "\n",
    "def ranges(inp):\n",
    "    m = 0\n",
    "    valid = set()\n",
    "    for g in inp[0].split('\\n'):\n",
    "        a = re.findall('(\\d+)-(\\d+)', g)\n",
    "        for pair in a:\n",
    "            s, e = pair\n",
    "            s = int(s)\n",
    "            e = int(e) + 1\n",
    "            if e > m:\n",
    "                m = e\n",
    "            for i in range(s, e):\n",
    "                valid.add(i)\n",
    "    r = set(range(m)).difference(valid)\n",
    "    return r, m\n"
   ]
  },
  {
   "cell_type": "code",
   "execution_count": 5,
   "metadata": {},
   "outputs": [],
   "source": [
    "def tickets(inp):\n",
    "    tks = []\n",
    "    for t in inp[2].split('\\n')[1:]:\n",
    "        try:\n",
    "            tks.append([int(i) for i in t.split(',')])\n",
    "        except Exception as e:\n",
    "            print(t)\n",
    "    return tks"
   ]
  },
  {
   "cell_type": "code",
   "execution_count": 6,
   "metadata": {},
   "outputs": [],
   "source": [
    "def cond(r, m, ticket):\n",
    "    invalid = 0\n",
    "    for n in ticket:\n",
    "        if n in r or n >= m:\n",
    "            invalid += n\n",
    "    return invalid\n",
    "\n",
    "def cal(tickets, r, m):\n",
    "    s = [cond(r, m, i) for i in t]\n",
    "    return sum(s)"
   ]
  },
  {
   "cell_type": "code",
   "execution_count": 7,
   "metadata": {},
   "outputs": [
    {
     "name": "stdout",
     "output_type": "stream",
     "text": [
      "\n"
     ]
    },
    {
     "data": {
      "text/plain": [
       "27898"
      ]
     },
     "execution_count": 7,
     "metadata": {},
     "output_type": "execute_result"
    }
   ],
   "source": [
    "r, m = ranges(inp)\n",
    "t = tickets(inp)\n",
    "\n",
    "cal(t, r, m)"
   ]
  },
  {
   "cell_type": "markdown",
   "metadata": {},
   "source": [
    "## Part 2"
   ]
  },
  {
   "cell_type": "code",
   "execution_count": 8,
   "metadata": {},
   "outputs": [],
   "source": [
    "import numpy as np"
   ]
  },
  {
   "cell_type": "code",
   "execution_count": 9,
   "metadata": {},
   "outputs": [],
   "source": [
    "inp = \"\"\"class: 0-1 or 4-19\n",
    "row: 0-5 or 8-19\n",
    "seat: 0-13 or 16-19\n",
    "\n",
    "your ticket:\n",
    "11,12,13\n",
    "\n",
    "nearby tickets:\n",
    "3,9,18\n",
    "15,1,5\n",
    "5,14,9\"\"\".split('\\n\\n')"
   ]
  },
  {
   "cell_type": "code",
   "execution_count": 10,
   "metadata": {},
   "outputs": [],
   "source": [
    "inp = data"
   ]
  },
  {
   "cell_type": "code",
   "execution_count": 11,
   "metadata": {},
   "outputs": [
    {
     "name": "stdout",
     "output_type": "stream",
     "text": [
      "\n"
     ]
    }
   ],
   "source": [
    "r, m = ranges(inp)\n",
    "t = tickets(inp)"
   ]
  },
  {
   "cell_type": "code",
   "execution_count": 12,
   "metadata": {},
   "outputs": [],
   "source": [
    "def cond(r, m, ticket):\n",
    "    for n in ticket:\n",
    "        if n in r or n >= m:\n",
    "            return False\n",
    "    return True"
   ]
  },
  {
   "cell_type": "code",
   "execution_count": 13,
   "metadata": {},
   "outputs": [],
   "source": [
    "def gen_f(s, e):\n",
    "    def f(x):\n",
    "        result = s <= x <= e\n",
    "#         print(f\"{s} <= {x} <= {e}: {result}\")\n",
    "        return result\n",
    "    return f"
   ]
  },
  {
   "cell_type": "code",
   "execution_count": 14,
   "metadata": {},
   "outputs": [],
   "source": [
    "def gen_g(fs):\n",
    "    def f(x):\n",
    "        return any([f(x) for f in fs])\n",
    "    return f"
   ]
  },
  {
   "cell_type": "code",
   "execution_count": 15,
   "metadata": {
    "scrolled": true
   },
   "outputs": [
    {
     "data": {
      "text/plain": [
       "({'departure location': <function __main__.gen_g.<locals>.f(x)>,\n",
       "  'departure station': <function __main__.gen_g.<locals>.f(x)>,\n",
       "  'departure platform': <function __main__.gen_g.<locals>.f(x)>,\n",
       "  'departure track': <function __main__.gen_g.<locals>.f(x)>,\n",
       "  'departure date': <function __main__.gen_g.<locals>.f(x)>,\n",
       "  'departure time': <function __main__.gen_g.<locals>.f(x)>,\n",
       "  'arrival location': <function __main__.gen_g.<locals>.f(x)>,\n",
       "  'arrival station': <function __main__.gen_g.<locals>.f(x)>,\n",
       "  'arrival platform': <function __main__.gen_g.<locals>.f(x)>,\n",
       "  'arrival track': <function __main__.gen_g.<locals>.f(x)>,\n",
       "  'class': <function __main__.gen_g.<locals>.f(x)>,\n",
       "  'duration': <function __main__.gen_g.<locals>.f(x)>,\n",
       "  'price': <function __main__.gen_g.<locals>.f(x)>,\n",
       "  'route': <function __main__.gen_g.<locals>.f(x)>,\n",
       "  'row': <function __main__.gen_g.<locals>.f(x)>,\n",
       "  'seat': <function __main__.gen_g.<locals>.f(x)>,\n",
       "  'train': <function __main__.gen_g.<locals>.f(x)>,\n",
       "  'type': <function __main__.gen_g.<locals>.f(x)>,\n",
       "  'wagon': <function __main__.gen_g.<locals>.f(x)>,\n",
       "  'zone': <function __main__.gen_g.<locals>.f(x)>},\n",
       " 974)"
      ]
     },
     "execution_count": 15,
     "metadata": {},
     "output_type": "execute_result"
    }
   ],
   "source": [
    "def fields(inp):\n",
    "    m = 0\n",
    "    r = {}\n",
    "    for g in inp[0].split('\\n'):\n",
    "        a = re.findall('(\\d+)-(\\d+)', g)\n",
    "        b = re.findall('(\\w+[\\s\\w]+):', g)[0]\n",
    "        r[b] = []\n",
    "        for pair in a:\n",
    "            s, e = pair\n",
    "            s = int(s)\n",
    "            e = int(e)\n",
    "            if e > m:\n",
    "                m = e\n",
    "            r[b].append(gen_f(s, e))\n",
    "    z = r.copy()\n",
    "    for k in z:\n",
    "        r[k] = gen_g(z[k])\n",
    "    return r, m\n",
    "f, m = fields(inp)\n",
    "f, m"
   ]
  },
  {
   "cell_type": "code",
   "execution_count": 16,
   "metadata": {},
   "outputs": [],
   "source": [
    "def valid(N):\n",
    "    valids = []\n",
    "    for k in f:\n",
    "        if all([f[k](i) for i in N]):\n",
    "            valids.append(k)\n",
    "    return valids"
   ]
  },
  {
   "cell_type": "code",
   "execution_count": 17,
   "metadata": {},
   "outputs": [],
   "source": [
    "filtered = np.matrix(list(filter(lambda x: cond(r, m, x), t)))"
   ]
  },
  {
   "cell_type": "code",
   "execution_count": 18,
   "metadata": {},
   "outputs": [],
   "source": [
    "filtered = filtered.transpose()"
   ]
  },
  {
   "cell_type": "code",
   "execution_count": 19,
   "metadata": {},
   "outputs": [],
   "source": [
    "li = filtered.tolist()"
   ]
  },
  {
   "cell_type": "code",
   "execution_count": 20,
   "metadata": {},
   "outputs": [
    {
     "data": {
      "text/plain": [
       "{0: ['departure location',\n",
       "  'departure station',\n",
       "  'departure platform',\n",
       "  'departure track',\n",
       "  'departure date',\n",
       "  'departure time',\n",
       "  'arrival location',\n",
       "  'arrival station',\n",
       "  'arrival platform',\n",
       "  'arrival track',\n",
       "  'class',\n",
       "  'duration',\n",
       "  'price',\n",
       "  'route',\n",
       "  'row',\n",
       "  'seat',\n",
       "  'train',\n",
       "  'wagon',\n",
       "  'zone'],\n",
       " 1: ['departure location',\n",
       "  'departure station',\n",
       "  'departure platform',\n",
       "  'departure track',\n",
       "  'departure date',\n",
       "  'arrival location',\n",
       "  'arrival platform',\n",
       "  'arrival track',\n",
       "  'class',\n",
       "  'price',\n",
       "  'route',\n",
       "  'row',\n",
       "  'seat',\n",
       "  'train',\n",
       "  'zone'],\n",
       " 2: ['departure location',\n",
       "  'departure station',\n",
       "  'departure platform',\n",
       "  'departure track',\n",
       "  'departure date',\n",
       "  'departure time',\n",
       "  'arrival location',\n",
       "  'arrival platform',\n",
       "  'arrival track',\n",
       "  'class',\n",
       "  'price',\n",
       "  'route',\n",
       "  'row',\n",
       "  'seat',\n",
       "  'train',\n",
       "  'zone'],\n",
       " 3: ['arrival platform', 'route', 'row', 'seat'],\n",
       " 4: ['arrival platform', 'class', 'route', 'row', 'seat'],\n",
       " 5: ['arrival platform',\n",
       "  'arrival track',\n",
       "  'class',\n",
       "  'price',\n",
       "  'route',\n",
       "  'row',\n",
       "  'seat'],\n",
       " 6: ['row'],\n",
       " 7: ['arrival platform',\n",
       "  'arrival track',\n",
       "  'class',\n",
       "  'price',\n",
       "  'route',\n",
       "  'row',\n",
       "  'seat',\n",
       "  'train'],\n",
       " 8: ['departure location',\n",
       "  'departure station',\n",
       "  'departure platform',\n",
       "  'departure track',\n",
       "  'departure date',\n",
       "  'departure time',\n",
       "  'arrival location',\n",
       "  'arrival platform',\n",
       "  'arrival track',\n",
       "  'class',\n",
       "  'price',\n",
       "  'route',\n",
       "  'row',\n",
       "  'seat',\n",
       "  'train',\n",
       "  'wagon',\n",
       "  'zone'],\n",
       " 9: ['arrival location',\n",
       "  'arrival platform',\n",
       "  'arrival track',\n",
       "  'class',\n",
       "  'price',\n",
       "  'route',\n",
       "  'row',\n",
       "  'seat',\n",
       "  'train',\n",
       "  'zone'],\n",
       " 10: ['departure location',\n",
       "  'departure station',\n",
       "  'departure platform',\n",
       "  'departure track',\n",
       "  'departure date',\n",
       "  'departure time',\n",
       "  'arrival location',\n",
       "  'arrival station',\n",
       "  'arrival platform',\n",
       "  'arrival track',\n",
       "  'class',\n",
       "  'duration',\n",
       "  'price',\n",
       "  'route',\n",
       "  'row',\n",
       "  'seat',\n",
       "  'train',\n",
       "  'type',\n",
       "  'wagon',\n",
       "  'zone'],\n",
       " 11: ['arrival location',\n",
       "  'arrival platform',\n",
       "  'arrival track',\n",
       "  'class',\n",
       "  'price',\n",
       "  'route',\n",
       "  'row',\n",
       "  'seat',\n",
       "  'train'],\n",
       " 12: ['departure location',\n",
       "  'departure platform',\n",
       "  'departure track',\n",
       "  'departure date',\n",
       "  'arrival location',\n",
       "  'arrival platform',\n",
       "  'arrival track',\n",
       "  'class',\n",
       "  'price',\n",
       "  'route',\n",
       "  'row',\n",
       "  'seat',\n",
       "  'train',\n",
       "  'zone'],\n",
       " 13: ['arrival platform', 'arrival track', 'class', 'route', 'row', 'seat'],\n",
       " 14: ['row', 'seat'],\n",
       " 15: ['departure location',\n",
       "  'departure track',\n",
       "  'departure date',\n",
       "  'arrival location',\n",
       "  'arrival platform',\n",
       "  'arrival track',\n",
       "  'class',\n",
       "  'price',\n",
       "  'route',\n",
       "  'row',\n",
       "  'seat',\n",
       "  'train',\n",
       "  'zone'],\n",
       " 16: ['departure location',\n",
       "  'departure date',\n",
       "  'arrival location',\n",
       "  'arrival platform',\n",
       "  'arrival track',\n",
       "  'class',\n",
       "  'price',\n",
       "  'route',\n",
       "  'row',\n",
       "  'seat',\n",
       "  'train',\n",
       "  'zone'],\n",
       " 17: ['departure location',\n",
       "  'arrival location',\n",
       "  'arrival platform',\n",
       "  'arrival track',\n",
       "  'class',\n",
       "  'price',\n",
       "  'route',\n",
       "  'row',\n",
       "  'seat',\n",
       "  'train',\n",
       "  'zone'],\n",
       " 18: ['departure location',\n",
       "  'departure station',\n",
       "  'departure platform',\n",
       "  'departure track',\n",
       "  'departure date',\n",
       "  'departure time',\n",
       "  'arrival location',\n",
       "  'arrival station',\n",
       "  'arrival platform',\n",
       "  'arrival track',\n",
       "  'class',\n",
       "  'price',\n",
       "  'route',\n",
       "  'row',\n",
       "  'seat',\n",
       "  'train',\n",
       "  'wagon',\n",
       "  'zone'],\n",
       " 19: ['arrival platform', 'row', 'seat']}"
      ]
     },
     "execution_count": 20,
     "metadata": {},
     "output_type": "execute_result"
    }
   ],
   "source": [
    "mp = {}\n",
    "for idx, i in enumerate(li):\n",
    "    mp[idx] = valid(i)\n",
    "mp"
   ]
  },
  {
   "cell_type": "code",
   "execution_count": 21,
   "metadata": {},
   "outputs": [],
   "source": [
    "z = [int(z) for z in inp[1].split('\\n')[1].split(',')]"
   ]
  },
  {
   "cell_type": "code",
   "execution_count": 22,
   "metadata": {},
   "outputs": [
    {
     "data": {
      "text/plain": [
       "2766491048287"
      ]
     },
     "execution_count": 22,
     "metadata": {},
     "output_type": "execute_result"
    }
   ],
   "source": [
    "z[1] * z[2] * z[12] * z[15] * z[16] * z[17]"
   ]
  }
 ],
 "metadata": {
  "kernelspec": {
   "display_name": "Python 3",
   "language": "python",
   "name": "python3"
  },
  "language_info": {
   "codemirror_mode": {
    "name": "ipython",
    "version": 3
   },
   "file_extension": ".py",
   "mimetype": "text/x-python",
   "name": "python",
   "nbconvert_exporter": "python",
   "pygments_lexer": "ipython3",
   "version": "3.9.0"
  }
 },
 "nbformat": 4,
 "nbformat_minor": 4
}
