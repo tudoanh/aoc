{
 "cells": [
  {
   "cell_type": "markdown",
   "id": "1b5ea3af",
   "metadata": {},
   "source": [
    "## Day 1\n",
    "\n",
    "https://adventofcode.com/2021/day/1"
   ]
  },
  {
   "cell_type": "code",
   "execution_count": 1,
   "id": "4b1cace8",
   "metadata": {
    "scrolled": false
   },
   "outputs": [
    {
     "data": {
      "text/plain": [
       "2000-element Vector{Int64}:\n",
       "  109\n",
       "  117\n",
       "  118\n",
       "   98\n",
       "  102\n",
       "   94\n",
       "  101\n",
       "  109\n",
       "  121\n",
       "  126\n",
       "  117\n",
       "  116\n",
       "  134\n",
       "    ⋮\n",
       " 6299\n",
       " 6289\n",
       " 6291\n",
       " 6289\n",
       " 6287\n",
       " 6288\n",
       " 6287\n",
       " 6289\n",
       " 6292\n",
       " 6293\n",
       " 6297\n",
       " 6308"
      ]
     },
     "execution_count": 1,
     "metadata": {},
     "output_type": "execute_result"
    }
   ],
   "source": [
    "input = parse.(Int64, readlines(\"./inputs/day_1.txt\"))"
   ]
  },
  {
   "cell_type": "code",
   "execution_count": 3,
   "id": "eeec5f0a",
   "metadata": {},
   "outputs": [
    {
     "data": {
      "text/plain": [
       "count_increase (generic function with 1 method)"
      ]
     },
     "execution_count": 3,
     "metadata": {},
     "output_type": "execute_result"
    }
   ],
   "source": [
    "# Part 1\n",
    "function count_increase(input)\n",
    "    len = length(input) - 1\n",
    "    sum(\n",
    "        (circshift(input, -1) .- input .> 0)[1:len]\n",
    "    )\n",
    "end"
   ]
  },
  {
   "cell_type": "code",
   "execution_count": 4,
   "id": "a97193a8",
   "metadata": {},
   "outputs": [
    {
     "data": {
      "text/plain": [
       "1448"
      ]
     },
     "execution_count": 4,
     "metadata": {},
     "output_type": "execute_result"
    }
   ],
   "source": [
    "count_increase(input)"
   ]
  },
  {
   "cell_type": "code",
   "execution_count": 7,
   "id": "f74364aa",
   "metadata": {},
   "outputs": [
    {
     "data": {
      "text/plain": [
       "sliding_window (generic function with 2 methods)"
      ]
     },
     "execution_count": 7,
     "metadata": {},
     "output_type": "execute_result"
    }
   ],
   "source": [
    "# Part 2\n",
    "function sliding_window(input, depth=2)\n",
    "    res = input[:]\n",
    "    for i in 1:depth\n",
    "        res = res .+ circshift(input, -i)\n",
    "    end\n",
    "    res[1:(length(res) - depth)]\n",
    "end"
   ]
  },
  {
   "cell_type": "code",
   "execution_count": 8,
   "id": "1aa4bb47",
   "metadata": {},
   "outputs": [
    {
     "data": {
      "text/plain": [
       "1471"
      ]
     },
     "execution_count": 8,
     "metadata": {},
     "output_type": "execute_result"
    }
   ],
   "source": [
    "count_increase(sliding_window(input))"
   ]
  },
  {
   "cell_type": "code",
   "execution_count": null,
   "id": "2f7257a6",
   "metadata": {},
   "outputs": [],
   "source": []
  }
 ],
 "metadata": {
  "kernelspec": {
   "display_name": "Julia 1.6.3",
   "language": "julia",
   "name": "julia-1.6"
  },
  "language_info": {
   "file_extension": ".jl",
   "mimetype": "application/julia",
   "name": "julia",
   "version": "1.6.3"
  }
 },
 "nbformat": 4,
 "nbformat_minor": 5
}
