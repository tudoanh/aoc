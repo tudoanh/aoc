{
 "cells": [
  {
   "cell_type": "markdown",
   "id": "c127f304",
   "metadata": {},
   "source": [
    "# Day 3\n",
    "https://adventofcode.com/2021/day/3"
   ]
  },
  {
   "cell_type": "code",
   "execution_count": 118,
   "id": "df193c59",
   "metadata": {},
   "outputs": [],
   "source": [
    "using BenchmarkTools"
   ]
  },
  {
   "cell_type": "code",
   "execution_count": 67,
   "id": "0f77c1f0",
   "metadata": {},
   "outputs": [
    {
     "data": {
      "text/plain": [
       "bitarr_to_int (generic function with 1 method)"
      ]
     },
     "execution_count": 67,
     "metadata": {},
     "output_type": "execute_result"
    }
   ],
   "source": [
    "function bitarr_to_int(arr)\n",
    "    return sum(arr .* (2 .^ collect(length(arr)-1:-1:0)))\n",
    "end"
   ]
  },
  {
   "cell_type": "code",
   "execution_count": 124,
   "id": "bbebaba5",
   "metadata": {},
   "outputs": [
    {
     "data": {
      "text/plain": [
       "12×1000 Matrix{Int64}:\n",
       " 1  1  1  0  0  1  0  1  1  1  1  1  0  …  1  0  1  1  0  1  0  0  1  0  1  0\n",
       " 0  0  0  1  0  1  0  0  1  1  1  0  0     0  0  1  0  1  1  0  1  0  1  0  1\n",
       " 1  0  1  0  1  0  1  1  0  1  1  1  0     0  1  0  1  1  1  1  0  0  0  1  0\n",
       " 0  1  0  1  1  0  0  1  0  1  1  1  0     0  0  1  1  0  1  0  0  0  1  1  1\n",
       " 1  0  1  0  0  0  0  1  0  1  0  0  1     0  1  0  1  1  1  1  0  0  1  1  0\n",
       " 1  0  0  0  1  1  1  1  1  1  0  0  0  …  0  1  1  0  0  1  0  0  0  1  1  0\n",
       " 1  1  1  0  1  1  0  1  0  0  1  0  0     1  0  0  1  1  1  1  0  0  0  1  0\n",
       " 1  1  0  1  0  0  1  0  0  0  1  1  0     0  0  0  0  0  1  1  0  1  1  0  1\n",
       " 1  0  1  0  1  1  1  1  1  0  0  0  0     0  0  0  1  0  0  0  1  0  0  0  0\n",
       " 0  1  0  0  1  0  0  1  0  0  0  1  0     0  0  0  0  1  0  0  0  0  1  0  0\n",
       " 0  1  1  0  0  1  0  1  0  0  0  0  1  …  1  0  1  0  1  0  1  1  1  1  1  1\n",
       " 1  1  1  0  1  0  1  1  0  0  1  0  1     0  0  0  1  0  0  0  1  1  1  0  1"
      ]
     },
     "execution_count": 124,
     "metadata": {},
     "output_type": "execute_result"
    }
   ],
   "source": [
    "input = split.(readlines(\"./inputs/day_3.txt\"), \"\")\n",
    "input = parse.(Int64, reduce(hcat, input))"
   ]
  },
  {
   "cell_type": "code",
   "execution_count": 125,
   "id": "7ecbbf0e",
   "metadata": {},
   "outputs": [
    {
     "data": {
      "text/plain": [
       "3320834"
      ]
     },
     "execution_count": 125,
     "metadata": {},
     "output_type": "execute_result"
    }
   ],
   "source": [
    "# Part 1\n",
    "\n",
    "function power_consumption(input)\n",
    "    sum_bits = sum(input, dims=2)\n",
    "    threshold = div(size(input, 2), 2)\n",
    "    γ = sum_bits .> threshold\n",
    "    ϵ = sum_bits .< threshold\n",
    "    bitarr_to_int(ϵ[:]) * bitarr_to_int(γ[:])\n",
    "end\n",
    "\n",
    "power_consumption(input)"
   ]
  },
  {
   "cell_type": "code",
   "execution_count": 126,
   "id": "1238e47e",
   "metadata": {},
   "outputs": [
    {
     "data": {
      "text/plain": [
       "BenchmarkTools.Trial: 10000 samples with 6 evaluations.\n",
       " Range \u001b[90m(\u001b[39m\u001b[36m\u001b[1mmin\u001b[22m\u001b[39m … \u001b[35mmax\u001b[39m\u001b[90m):  \u001b[39m\u001b[36m\u001b[1m5.250 μs\u001b[22m\u001b[39m … \u001b[35m676.830 μs\u001b[39m  \u001b[90m┊\u001b[39m GC \u001b[90m(\u001b[39mmin … max\u001b[90m): \u001b[39m0.00% … 98.50%\n",
       " Time  \u001b[90m(\u001b[39m\u001b[34m\u001b[1mmedian\u001b[22m\u001b[39m\u001b[90m):     \u001b[39m\u001b[34m\u001b[1m5.567 μs               \u001b[22m\u001b[39m\u001b[90m┊\u001b[39m GC \u001b[90m(\u001b[39mmedian\u001b[90m):    \u001b[39m0.00%\n",
       " Time  \u001b[90m(\u001b[39m\u001b[32m\u001b[1mmean\u001b[22m\u001b[39m ± \u001b[32mσ\u001b[39m\u001b[90m):   \u001b[39m\u001b[32m\u001b[1m5.788 μs\u001b[22m\u001b[39m ± \u001b[32m  9.029 μs\u001b[39m  \u001b[90m┊\u001b[39m GC \u001b[90m(\u001b[39mmean ± σ\u001b[90m):  \u001b[39m2.19% ±  1.39%\n",
       "\n",
       "  \u001b[39m \u001b[39m \u001b[39m \u001b[39m \u001b[39m▁\u001b[39m▃\u001b[39m█\u001b[34m▇\u001b[39m\u001b[39m▁\u001b[39m \u001b[39m \u001b[39m \u001b[32m \u001b[39m\u001b[39m \u001b[39m \u001b[39m \u001b[39m \u001b[39m \u001b[39m \u001b[39m \u001b[39m \u001b[39m \u001b[39m \u001b[39m \u001b[39m \u001b[39m \u001b[39m \u001b[39m \u001b[39m \u001b[39m \u001b[39m \u001b[39m \u001b[39m \u001b[39m \u001b[39m \u001b[39m \u001b[39m \u001b[39m \u001b[39m \u001b[39m \u001b[39m \u001b[39m \u001b[39m \u001b[39m \u001b[39m \u001b[39m \u001b[39m \u001b[39m \u001b[39m \u001b[39m \u001b[39m \u001b[39m \u001b[39m \u001b[39m \u001b[39m \u001b[39m \u001b[39m \u001b[39m \u001b[39m \u001b[39m \u001b[39m \n",
       "  \u001b[39m▂\u001b[39m▄\u001b[39m▃\u001b[39m▃\u001b[39m█\u001b[39m█\u001b[39m█\u001b[34m█\u001b[39m\u001b[39m█\u001b[39m▅\u001b[39m▄\u001b[39m▃\u001b[32m▃\u001b[39m\u001b[39m▃\u001b[39m▃\u001b[39m▂\u001b[39m▂\u001b[39m▂\u001b[39m▂\u001b[39m▂\u001b[39m▂\u001b[39m▂\u001b[39m▂\u001b[39m▂\u001b[39m▂\u001b[39m▂\u001b[39m▂\u001b[39m▂\u001b[39m▂\u001b[39m▂\u001b[39m▂\u001b[39m▂\u001b[39m▂\u001b[39m▂\u001b[39m▂\u001b[39m▂\u001b[39m▂\u001b[39m▂\u001b[39m▂\u001b[39m▂\u001b[39m▂\u001b[39m▂\u001b[39m▂\u001b[39m▂\u001b[39m▂\u001b[39m▂\u001b[39m▂\u001b[39m▂\u001b[39m▂\u001b[39m▂\u001b[39m▂\u001b[39m▂\u001b[39m▂\u001b[39m▁\u001b[39m▂\u001b[39m▂\u001b[39m▂\u001b[39m▂\u001b[39m▂\u001b[39m \u001b[39m▃\n",
       "  5.25 μs\u001b[90m         Histogram: frequency by time\u001b[39m        7.94 μs \u001b[0m\u001b[1m<\u001b[22m\n",
       "\n",
       " Memory estimate\u001b[90m: \u001b[39m\u001b[33m1.48 KiB\u001b[39m, allocs estimate\u001b[90m: \u001b[39m\u001b[33m18\u001b[39m."
      ]
     },
     "execution_count": 126,
     "metadata": {},
     "output_type": "execute_result"
    }
   ],
   "source": [
    "@benchmark power_consumption(input)"
   ]
  },
  {
   "cell_type": "code",
   "execution_count": null,
   "id": "b4657fb7",
   "metadata": {},
   "outputs": [],
   "source": []
  }
 ],
 "metadata": {
  "kernelspec": {
   "display_name": "Julia 1.6.3",
   "language": "julia",
   "name": "julia-1.6"
  },
  "language_info": {
   "file_extension": ".jl",
   "mimetype": "application/julia",
   "name": "julia",
   "version": "1.6.3"
  }
 },
 "nbformat": 4,
 "nbformat_minor": 5
}
