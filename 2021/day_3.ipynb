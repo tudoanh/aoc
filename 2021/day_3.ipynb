{
 "cells": [
  {
   "cell_type": "markdown",
   "id": "fad16a4d",
   "metadata": {},
   "source": [
    "# Day 3\n",
    "https://adventofcode.com/2021/day/3"
   ]
  },
  {
   "cell_type": "code",
   "execution_count": 2,
   "id": "ef0a630f",
   "metadata": {},
   "outputs": [],
   "source": [
    "using BenchmarkTools"
   ]
  },
  {
   "cell_type": "code",
   "execution_count": 3,
   "id": "deb678fb",
   "metadata": {},
   "outputs": [
    {
     "data": {
      "text/plain": [
       "bitarr_to_int (generic function with 1 method)"
      ]
     },
     "execution_count": 3,
     "metadata": {},
     "output_type": "execute_result"
    }
   ],
   "source": [
    "function bitarr_to_int(arr)\n",
    "    return sum(arr .* (2 .^ collect(length(arr)-1:-1:0)))\n",
    "end"
   ]
  },
  {
   "cell_type": "code",
   "execution_count": 4,
   "id": "f461e954",
   "metadata": {},
   "outputs": [
    {
     "data": {
      "text/plain": [
       "12×1000 Matrix{Int64}:\n",
       " 1  1  1  0  0  1  0  1  1  1  1  1  0  …  1  0  1  1  0  1  0  0  1  0  1  0\n",
       " 0  0  0  1  0  1  0  0  1  1  1  0  0     0  0  1  0  1  1  0  1  0  1  0  1\n",
       " 1  0  1  0  1  0  1  1  0  1  1  1  0     0  1  0  1  1  1  1  0  0  0  1  0\n",
       " 0  1  0  1  1  0  0  1  0  1  1  1  0     0  0  1  1  0  1  0  0  0  1  1  1\n",
       " 1  0  1  0  0  0  0  1  0  1  0  0  1     0  1  0  1  1  1  1  0  0  1  1  0\n",
       " 1  0  0  0  1  1  1  1  1  1  0  0  0  …  0  1  1  0  0  1  0  0  0  1  1  0\n",
       " 1  1  1  0  1  1  0  1  0  0  1  0  0     1  0  0  1  1  1  1  0  0  0  1  0\n",
       " 1  1  0  1  0  0  1  0  0  0  1  1  0     0  0  0  0  0  1  1  0  1  1  0  1\n",
       " 1  0  1  0  1  1  1  1  1  0  0  0  0     0  0  0  1  0  0  0  1  0  0  0  0\n",
       " 0  1  0  0  1  0  0  1  0  0  0  1  0     0  0  0  0  1  0  0  0  0  1  0  0\n",
       " 0  1  1  0  0  1  0  1  0  0  0  0  1  …  1  0  1  0  1  0  1  1  1  1  1  1\n",
       " 1  1  1  0  1  0  1  1  0  0  1  0  1     0  0  0  1  0  0  0  1  1  1  0  1"
      ]
     },
     "execution_count": 4,
     "metadata": {},
     "output_type": "execute_result"
    }
   ],
   "source": [
    "input = split.(readlines(\"./inputs/day_3.txt\"), \"\")\n",
    "input = parse.(Int64, reduce(hcat, input))"
   ]
  },
  {
   "cell_type": "code",
   "execution_count": 5,
   "id": "3f54d6de",
   "metadata": {},
   "outputs": [
    {
     "data": {
      "text/plain": [
       "3320834"
      ]
     },
     "execution_count": 5,
     "metadata": {},
     "output_type": "execute_result"
    }
   ],
   "source": [
    "# Part 1\n",
    "function power_consumption(input)\n",
    "    sum_bits = sum(input, dims=2)\n",
    "    threshold = cld(size(input, 2), 2)\n",
    "    γ = sum_bits .>= threshold\n",
    "    ϵ = sum_bits .< threshold\n",
    "    Dict(\"γ\" => γ, \"ϵ\" => ϵ)\n",
    "end\n",
    "\n",
    "pc = power_consumption(input)\n",
    "bitarr_to_int(pc[\"γ\"]) * bitarr_to_int(pc[\"ϵ\"])"
   ]
  },
  {
   "cell_type": "code",
   "execution_count": 6,
   "id": "6c705846",
   "metadata": {},
   "outputs": [
    {
     "data": {
      "text/plain": [
       "BenchmarkTools.Trial: 10000 samples with 7 evaluations.\n",
       " Range \u001b[90m(\u001b[39m\u001b[36m\u001b[1mmin\u001b[22m\u001b[39m … \u001b[35mmax\u001b[39m\u001b[90m):  \u001b[39m\u001b[36m\u001b[1m4.337 μs\u001b[22m\u001b[39m … \u001b[35m472.911 μs\u001b[39m  \u001b[90m┊\u001b[39m GC \u001b[90m(\u001b[39mmin … max\u001b[90m): \u001b[39m0.00% … 97.84%\n",
       " Time  \u001b[90m(\u001b[39m\u001b[34m\u001b[1mmedian\u001b[22m\u001b[39m\u001b[90m):     \u001b[39m\u001b[34m\u001b[1m4.842 μs               \u001b[22m\u001b[39m\u001b[90m┊\u001b[39m GC \u001b[90m(\u001b[39mmedian\u001b[90m):    \u001b[39m0.00%\n",
       " Time  \u001b[90m(\u001b[39m\u001b[32m\u001b[1mmean\u001b[22m\u001b[39m ± \u001b[32mσ\u001b[39m\u001b[90m):   \u001b[39m\u001b[32m\u001b[1m5.332 μs\u001b[22m\u001b[39m ± \u001b[32m  4.840 μs\u001b[39m  \u001b[90m┊\u001b[39m GC \u001b[90m(\u001b[39mmean ± σ\u001b[90m):  \u001b[39m0.87% ±  0.98%\n",
       "\n",
       "  \u001b[39m█\u001b[39m▇\u001b[39m \u001b[39m \u001b[39m▁\u001b[39m▁\u001b[34m▅\u001b[39m\u001b[39m \u001b[39m \u001b[39m \u001b[39m \u001b[39m \u001b[32m \u001b[39m\u001b[39m \u001b[39m \u001b[39m \u001b[39m \u001b[39m \u001b[39m \u001b[39m \u001b[39m \u001b[39m \u001b[39m \u001b[39m \u001b[39m \u001b[39m \u001b[39m \u001b[39m \u001b[39m \u001b[39m \u001b[39m \u001b[39m \u001b[39m \u001b[39m \u001b[39m \u001b[39m \u001b[39m \u001b[39m \u001b[39m \u001b[39m \u001b[39m \u001b[39m \u001b[39m \u001b[39m \u001b[39m \u001b[39m \u001b[39m \u001b[39m \u001b[39m \u001b[39m \u001b[39m \u001b[39m \u001b[39m \u001b[39m \u001b[39m \u001b[39m \u001b[39m \u001b[39m \u001b[39m \u001b[39m \u001b[39m \n",
       "  \u001b[39m█\u001b[39m█\u001b[39m▅\u001b[39m▃\u001b[39m█\u001b[39m█\u001b[34m█\u001b[39m\u001b[39m█\u001b[39m▅\u001b[39m▃\u001b[39m▂\u001b[39m▂\u001b[32m▂\u001b[39m\u001b[39m▂\u001b[39m▁\u001b[39m▁\u001b[39m▁\u001b[39m▁\u001b[39m▁\u001b[39m▁\u001b[39m▁\u001b[39m▁\u001b[39m▁\u001b[39m▁\u001b[39m▁\u001b[39m▁\u001b[39m▁\u001b[39m▁\u001b[39m▂\u001b[39m▂\u001b[39m▂\u001b[39m▃\u001b[39m▃\u001b[39m▃\u001b[39m▃\u001b[39m▂\u001b[39m▂\u001b[39m▂\u001b[39m▂\u001b[39m▂\u001b[39m▂\u001b[39m▁\u001b[39m▁\u001b[39m▁\u001b[39m▁\u001b[39m▁\u001b[39m▁\u001b[39m▁\u001b[39m▁\u001b[39m▁\u001b[39m▁\u001b[39m▁\u001b[39m▁\u001b[39m▁\u001b[39m▁\u001b[39m▁\u001b[39m▁\u001b[39m▁\u001b[39m▁\u001b[39m \u001b[39m▂\n",
       "  4.34 μs\u001b[90m         Histogram: frequency by time\u001b[39m        9.37 μs \u001b[0m\u001b[1m<\u001b[22m\n",
       "\n",
       " Memory estimate\u001b[90m: \u001b[39m\u001b[33m1.12 KiB\u001b[39m, allocs estimate\u001b[90m: \u001b[39m\u001b[33m13\u001b[39m."
      ]
     },
     "execution_count": 6,
     "metadata": {},
     "output_type": "execute_result"
    }
   ],
   "source": [
    "@benchmark power_consumption(input)"
   ]
  },
  {
   "cell_type": "code",
   "execution_count": 7,
   "id": "dc0a9af7",
   "metadata": {},
   "outputs": [],
   "source": [
    "# Part 2"
   ]
  },
  {
   "cell_type": "code",
   "execution_count": 8,
   "id": "10386375",
   "metadata": {},
   "outputs": [
    {
     "data": {
      "text/plain": [
       "rating (generic function with 1 method)"
      ]
     },
     "execution_count": 8,
     "metadata": {},
     "output_type": "execute_result"
    }
   ],
   "source": [
    "function rating(criteria, m)\n",
    "    i = 1\n",
    "    while size(m, 2) > 1\n",
    "        crit = power_consumption(m)[criteria]\n",
    "        m = m[:, m[i, :] .== crit[i]]\n",
    "        i += 1\n",
    "    end\n",
    "    m\n",
    "end"
   ]
  },
  {
   "cell_type": "code",
   "execution_count": 9,
   "id": "7bc891ae",
   "metadata": {
    "scrolled": false
   },
   "outputs": [
    {
     "data": {
      "text/plain": [
       "4481199"
      ]
     },
     "execution_count": 9,
     "metadata": {},
     "output_type": "execute_result"
    }
   ],
   "source": [
    "function life_support_rating(input)\n",
    "    o2_rating = rating(\"γ\", input[:, :])\n",
    "    co2_rating = rating(\"ϵ\", input[:, :])\n",
    "    bitarr_to_int(o2_rating) * bitarr_to_int(co2_rating)\n",
    "end\n",
    "\n",
    "life_support_rating(input)"
   ]
  },
  {
   "cell_type": "code",
   "execution_count": 10,
   "id": "080ab109",
   "metadata": {},
   "outputs": [
    {
     "data": {
      "text/plain": [
       "BenchmarkTools.Trial: 10000 samples with 1 evaluation.\n",
       " Range \u001b[90m(\u001b[39m\u001b[36m\u001b[1mmin\u001b[22m\u001b[39m … \u001b[35mmax\u001b[39m\u001b[90m):  \u001b[39m\u001b[36m\u001b[1m 79.200 μs\u001b[22m\u001b[39m … \u001b[35m  2.347 ms\u001b[39m  \u001b[90m┊\u001b[39m GC \u001b[90m(\u001b[39mmin … max\u001b[90m): \u001b[39m 0.00% … 93.17%\n",
       " Time  \u001b[90m(\u001b[39m\u001b[34m\u001b[1mmedian\u001b[22m\u001b[39m\u001b[90m):     \u001b[39m\u001b[34m\u001b[1m 89.880 μs               \u001b[22m\u001b[39m\u001b[90m┊\u001b[39m GC \u001b[90m(\u001b[39mmedian\u001b[90m):    \u001b[39m 0.00%\n",
       " Time  \u001b[90m(\u001b[39m\u001b[32m\u001b[1mmean\u001b[22m\u001b[39m ± \u001b[32mσ\u001b[39m\u001b[90m):   \u001b[39m\u001b[32m\u001b[1m111.467 μs\u001b[22m\u001b[39m ± \u001b[32m150.911 μs\u001b[39m  \u001b[90m┊\u001b[39m GC \u001b[90m(\u001b[39mmean ± σ\u001b[90m):  \u001b[39m12.91% ±  9.02%\n",
       "\n",
       "  \u001b[39m█\u001b[34m▄\u001b[39m\u001b[32m▄\u001b[39m\u001b[39m▂\u001b[39m▃\u001b[39m \u001b[39m \u001b[39m \u001b[39m \u001b[39m \u001b[39m \u001b[39m \u001b[39m \u001b[39m \u001b[39m \u001b[39m \u001b[39m \u001b[39m \u001b[39m \u001b[39m \u001b[39m \u001b[39m \u001b[39m \u001b[39m \u001b[39m \u001b[39m \u001b[39m \u001b[39m \u001b[39m \u001b[39m \u001b[39m \u001b[39m \u001b[39m \u001b[39m \u001b[39m \u001b[39m \u001b[39m \u001b[39m \u001b[39m \u001b[39m \u001b[39m \u001b[39m \u001b[39m \u001b[39m \u001b[39m \u001b[39m \u001b[39m \u001b[39m \u001b[39m \u001b[39m \u001b[39m \u001b[39m \u001b[39m \u001b[39m \u001b[39m \u001b[39m \u001b[39m \u001b[39m \u001b[39m \u001b[39m \u001b[39m \u001b[39m \u001b[39m▁\n",
       "  \u001b[39m█\u001b[34m█\u001b[39m\u001b[32m█\u001b[39m\u001b[39m█\u001b[39m█\u001b[39m▇\u001b[39m▅\u001b[39m▆\u001b[39m▄\u001b[39m▅\u001b[39m▄\u001b[39m▁\u001b[39m▃\u001b[39m▁\u001b[39m▁\u001b[39m▁\u001b[39m▃\u001b[39m▁\u001b[39m▁\u001b[39m▁\u001b[39m▁\u001b[39m▁\u001b[39m▁\u001b[39m▁\u001b[39m▁\u001b[39m▁\u001b[39m▁\u001b[39m▁\u001b[39m▁\u001b[39m▁\u001b[39m▁\u001b[39m▁\u001b[39m▁\u001b[39m▁\u001b[39m▁\u001b[39m▁\u001b[39m▁\u001b[39m▁\u001b[39m▁\u001b[39m▁\u001b[39m▁\u001b[39m▁\u001b[39m▁\u001b[39m▁\u001b[39m▁\u001b[39m▁\u001b[39m▁\u001b[39m▁\u001b[39m▁\u001b[39m▁\u001b[39m▁\u001b[39m▁\u001b[39m▁\u001b[39m▁\u001b[39m▁\u001b[39m▁\u001b[39m▁\u001b[39m▁\u001b[39m▁\u001b[39m▁\u001b[39m▃\u001b[39m \u001b[39m█\n",
       "  79.2 μs\u001b[90m       \u001b[39m\u001b[90mHistogram: \u001b[39m\u001b[90m\u001b[1mlog(\u001b[22m\u001b[39m\u001b[90mfrequency\u001b[39m\u001b[90m\u001b[1m)\u001b[22m\u001b[39m\u001b[90m by time\u001b[39m       1.34 ms \u001b[0m\u001b[1m<\u001b[22m\n",
       "\n",
       " Memory estimate\u001b[90m: \u001b[39m\u001b[33m455.33 KiB\u001b[39m, allocs estimate\u001b[90m: \u001b[39m\u001b[33m374\u001b[39m."
      ]
     },
     "execution_count": 10,
     "metadata": {},
     "output_type": "execute_result"
    }
   ],
   "source": [
    "@benchmark life_support_rating(input)"
   ]
  },
  {
   "cell_type": "code",
   "execution_count": null,
   "id": "731ecab7",
   "metadata": {},
   "outputs": [],
   "source": []
  }
 ],
 "metadata": {
  "kernelspec": {
   "display_name": "Julia 1.6.3",
   "language": "julia",
   "name": "julia-1.6"
  },
  "language_info": {
   "file_extension": ".jl",
   "mimetype": "application/julia",
   "name": "julia",
   "version": "1.6.3"
  }
 },
 "nbformat": 4,
 "nbformat_minor": 5
}
