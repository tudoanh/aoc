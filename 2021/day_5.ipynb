{
 "cells": [
  {
   "cell_type": "code",
   "execution_count": 1,
   "id": "264d127c",
   "metadata": {},
   "outputs": [],
   "source": [
    "using BenchmarkTools"
   ]
  },
  {
   "cell_type": "code",
   "execution_count": 2,
   "id": "1076a09e",
   "metadata": {},
   "outputs": [
    {
     "data": {
      "text/plain": [
       "to_point (generic function with 1 method)"
      ]
     },
     "execution_count": 2,
     "metadata": {},
     "output_type": "execute_result"
    }
   ],
   "source": [
    "struct Point\n",
    "    x\n",
    "    y\n",
    "end\n",
    "\n",
    "function to_point(str)\n",
    "    x, y = parse.(Int64, split(str, \",\"))\n",
    "    Point(x, y)\n",
    "end"
   ]
  },
  {
   "cell_type": "code",
   "execution_count": 3,
   "id": "4d1a7ebd",
   "metadata": {},
   "outputs": [
    {
     "data": {
      "text/plain": [
       "500-element Vector{Vector{Point}}:\n",
       " [Point(105, 697), Point(287, 697)]\n",
       " [Point(705, 62), Point(517, 250)]\n",
       " [Point(531, 627), Point(531, 730)]\n",
       " [Point(21, 268), Point(417, 268)]\n",
       " [Point(913, 731), Point(271, 89)]\n",
       " [Point(214, 697), Point(82, 697)]\n",
       " [Point(376, 661), Point(376, 177)]\n",
       " [Point(519, 859), Point(977, 859)]\n",
       " [Point(782, 98), Point(184, 98)]\n",
       " [Point(612, 179), Point(515, 179)]\n",
       " [Point(340, 772), Point(352, 784)]\n",
       " [Point(111, 863), Point(111, 298)]\n",
       " [Point(944, 73), Point(594, 73)]\n",
       " ⋮\n",
       " [Point(500, 242), Point(371, 242)]\n",
       " [Point(88, 126), Point(405, 126)]\n",
       " [Point(983, 941), Point(61, 19)]\n",
       " [Point(242, 519), Point(242, 489)]\n",
       " [Point(519, 957), Point(926, 550)]\n",
       " [Point(606, 181), Point(606, 432)]\n",
       " [Point(873, 216), Point(851, 194)]\n",
       " [Point(880, 924), Point(880, 844)]\n",
       " [Point(321, 119), Point(801, 599)]\n",
       " [Point(963, 392), Point(726, 155)]\n",
       " [Point(190, 655), Point(190, 305)]\n",
       " [Point(542, 676), Point(542, 819)]"
      ]
     },
     "execution_count": 3,
     "metadata": {},
     "output_type": "execute_result"
    }
   ],
   "source": [
    "input = [to_point.(i) for i in split.(readlines(\"./inputs/day_5.txt\"), \" -> \")]"
   ]
  },
  {
   "cell_type": "code",
   "execution_count": 4,
   "id": "5f2e5512",
   "metadata": {},
   "outputs": [],
   "source": [
    "# Part 1"
   ]
  },
  {
   "cell_type": "code",
   "execution_count": 6,
   "id": "4de56122",
   "metadata": {},
   "outputs": [
    {
     "data": {
      "text/plain": [
       "is_consider (generic function with 1 method)"
      ]
     },
     "execution_count": 6,
     "metadata": {},
     "output_type": "execute_result"
    }
   ],
   "source": [
    "function is_consider(entry)\n",
    "    p1, p2 = entry\n",
    "    p1.x == p2.x || p1.y == p2.y\n",
    "end"
   ]
  },
  {
   "cell_type": "code",
   "execution_count": 7,
   "id": "13b93045",
   "metadata": {
    "scrolled": false
   },
   "outputs": [],
   "source": [
    "input_1 = filter(is_consider, input);"
   ]
  },
  {
   "cell_type": "code",
   "execution_count": 8,
   "id": "a4bf6198",
   "metadata": {},
   "outputs": [
    {
     "data": {
      "text/plain": [
       "points_between (generic function with 1 method)"
      ]
     },
     "execution_count": 8,
     "metadata": {},
     "output_type": "execute_result"
    }
   ],
   "source": [
    "function points_between(p1, p2)\n",
    "    # Vertical\n",
    "    if p1.x == p2.x && p1.y != p2.y\n",
    "        start, stop = sort([p1.y, p2.y])\n",
    "        points = [Point(p1.x, i) for i in start:stop]\n",
    "    # Horizontal\n",
    "    elseif p1.x != p2.x && p1.y == p2.y\n",
    "        start, stop = sort([p1.x, p2.x])\n",
    "        points = [Point(i, p1.y) for i in start:stop]\n",
    "    # Diagonal\n",
    "    else\n",
    "        len = abs(p1.x - p2.x)\n",
    "        if p1.x < p2.x && p1.y < p2.y\n",
    "            points = [Point(p1.x + i, p1.y + i) for i in 0:len]\n",
    "        elseif p1.x > p2.x && p1.y > p2.y\n",
    "            points = [Point(p1.x - i, p1.y - i) for i in 0:len]\n",
    "        elseif p1.x > p2.x && p1.y < p2.y\n",
    "            points = [Point(p2.x + i, p2.y - i) for i in 0:len]\n",
    "        elseif p1.x < p2.x && p1.y > p2.y\n",
    "            points = [Point(p1.x + i, p1.y - i) for i in 0:len]\n",
    "        end\n",
    "    end\n",
    "    points\n",
    "end"
   ]
  },
  {
   "cell_type": "code",
   "execution_count": 9,
   "id": "8c795fc6",
   "metadata": {},
   "outputs": [
    {
     "data": {
      "text/plain": [
       "check (generic function with 1 method)"
      ]
     },
     "execution_count": 9,
     "metadata": {},
     "output_type": "execute_result"
    }
   ],
   "source": [
    "function check(map, point)\n",
    "    if point ∈ keys(map)\n",
    "        map[point] += 1\n",
    "    else\n",
    "        map[point] = 1\n",
    "    end\n",
    "end"
   ]
  },
  {
   "cell_type": "code",
   "execution_count": 10,
   "id": "1790e698",
   "metadata": {},
   "outputs": [
    {
     "data": {
      "text/plain": [
       "7414"
      ]
     },
     "execution_count": 10,
     "metadata": {},
     "output_type": "execute_result"
    }
   ],
   "source": [
    "function part_1(input)\n",
    "    map = Dict()\n",
    "\n",
    "    for entry in input\n",
    "        p1, p2 = entry\n",
    "        for point in points_between(p1, p2)\n",
    "            check(map, point)\n",
    "        end\n",
    "    end\n",
    "\n",
    "    length(filter(p -> p.second >= 2, map))\n",
    "end\n",
    "\n",
    "part_1(input_1)"
   ]
  },
  {
   "cell_type": "code",
   "execution_count": 11,
   "id": "3d8aee77",
   "metadata": {},
   "outputs": [],
   "source": [
    "# Part 2"
   ]
  },
  {
   "cell_type": "code",
   "execution_count": 12,
   "id": "add132a6",
   "metadata": {},
   "outputs": [],
   "source": [
    "input = [to_point.(i) for i in split.(readlines(\"./inputs/day_5.txt\"), \" -> \")];"
   ]
  },
  {
   "cell_type": "code",
   "execution_count": 13,
   "id": "24a4ad2a",
   "metadata": {
    "scrolled": true
   },
   "outputs": [
    {
     "data": {
      "text/plain": [
       "19676"
      ]
     },
     "execution_count": 13,
     "metadata": {},
     "output_type": "execute_result"
    }
   ],
   "source": [
    "function part_2(input)\n",
    "    map = Dict()\n",
    "\n",
    "    for entry in input\n",
    "        p1, p2 = entry\n",
    "        for point in points_between(p1, p2)\n",
    "            check(map, point)\n",
    "        end\n",
    "    end\n",
    "    length(filter(p -> p.second >= 2, map))\n",
    "end\n",
    "\n",
    "part_2(input)"
   ]
  },
  {
   "cell_type": "code",
   "execution_count": 14,
   "id": "c5a50ec9",
   "metadata": {},
   "outputs": [
    {
     "data": {
      "text/plain": [
       "BenchmarkTools.Trial: 120 samples with 1 evaluation.\n",
       " Range \u001b[90m(\u001b[39m\u001b[36m\u001b[1mmin\u001b[22m\u001b[39m … \u001b[35mmax\u001b[39m\u001b[90m):  \u001b[39m\u001b[36m\u001b[1m35.408 ms\u001b[22m\u001b[39m … \u001b[35m58.478 ms\u001b[39m  \u001b[90m┊\u001b[39m GC \u001b[90m(\u001b[39mmin … max\u001b[90m): \u001b[39m0.00% … 20.90%\n",
       " Time  \u001b[90m(\u001b[39m\u001b[34m\u001b[1mmedian\u001b[22m\u001b[39m\u001b[90m):     \u001b[39m\u001b[34m\u001b[1m40.475 ms              \u001b[22m\u001b[39m\u001b[90m┊\u001b[39m GC \u001b[90m(\u001b[39mmedian\u001b[90m):    \u001b[39m8.94%\n",
       " Time  \u001b[90m(\u001b[39m\u001b[32m\u001b[1mmean\u001b[22m\u001b[39m ± \u001b[32mσ\u001b[39m\u001b[90m):   \u001b[39m\u001b[32m\u001b[1m41.737 ms\u001b[22m\u001b[39m ± \u001b[32m 5.115 ms\u001b[39m  \u001b[90m┊\u001b[39m GC \u001b[90m(\u001b[39mmean ± σ\u001b[90m):  \u001b[39m9.05% ±  7.42%\n",
       "\n",
       "  \u001b[39m█\u001b[39m▄\u001b[39m▆\u001b[39m█\u001b[39m \u001b[39m▆\u001b[39m \u001b[39m \u001b[39m \u001b[39m \u001b[39m \u001b[39m \u001b[39m▄\u001b[39m \u001b[39m \u001b[39m \u001b[39m \u001b[34m \u001b[39m\u001b[39m \u001b[39m \u001b[39m \u001b[39m \u001b[32m \u001b[39m\u001b[39m▄\u001b[39m \u001b[39m \u001b[39m \u001b[39m \u001b[39m \u001b[39m \u001b[39m \u001b[39m▂\u001b[39m \u001b[39m \u001b[39m \u001b[39m \u001b[39m \u001b[39m \u001b[39m \u001b[39m \u001b[39m \u001b[39m▂\u001b[39m \u001b[39m \u001b[39m \u001b[39m \u001b[39m \u001b[39m \u001b[39m \u001b[39m \u001b[39m \u001b[39m \u001b[39m \u001b[39m \u001b[39m \u001b[39m \u001b[39m \u001b[39m \u001b[39m \u001b[39m \u001b[39m \n",
       "  \u001b[39m█\u001b[39m█\u001b[39m█\u001b[39m█\u001b[39m█\u001b[39m█\u001b[39m█\u001b[39m▄\u001b[39m▆\u001b[39m▁\u001b[39m█\u001b[39m█\u001b[39m█\u001b[39m█\u001b[39m▄\u001b[39m▄\u001b[39m█\u001b[34m▆\u001b[39m\u001b[39m▄\u001b[39m▄\u001b[39m▆\u001b[39m▁\u001b[32m▆\u001b[39m\u001b[39m█\u001b[39m▁\u001b[39m▁\u001b[39m▆\u001b[39m▄\u001b[39m▁\u001b[39m▆\u001b[39m█\u001b[39m█\u001b[39m█\u001b[39m▄\u001b[39m▄\u001b[39m▄\u001b[39m▄\u001b[39m█\u001b[39m▄\u001b[39m█\u001b[39m▄\u001b[39m█\u001b[39m▄\u001b[39m▄\u001b[39m▄\u001b[39m▆\u001b[39m▆\u001b[39m▁\u001b[39m▄\u001b[39m▄\u001b[39m▄\u001b[39m▄\u001b[39m▄\u001b[39m▁\u001b[39m▄\u001b[39m▁\u001b[39m▄\u001b[39m▁\u001b[39m▆\u001b[39m \u001b[39m▄\n",
       "  35.4 ms\u001b[90m         Histogram: frequency by time\u001b[39m        52.5 ms \u001b[0m\u001b[1m<\u001b[22m\n",
       "\n",
       " Memory estimate\u001b[90m: \u001b[39m\u001b[33m27.78 MiB\u001b[39m, allocs estimate\u001b[90m: \u001b[39m\u001b[33m747126\u001b[39m."
      ]
     },
     "execution_count": 14,
     "metadata": {},
     "output_type": "execute_result"
    }
   ],
   "source": [
    "@benchmark part_1(input_1)"
   ]
  },
  {
   "cell_type": "code",
   "execution_count": 15,
   "id": "081d51f6",
   "metadata": {},
   "outputs": [
    {
     "data": {
      "text/plain": [
       "BenchmarkTools.Trial: 51 samples with 1 evaluation.\n",
       " Range \u001b[90m(\u001b[39m\u001b[36m\u001b[1mmin\u001b[22m\u001b[39m … \u001b[35mmax\u001b[39m\u001b[90m):  \u001b[39m\u001b[36m\u001b[1m85.161 ms\u001b[22m\u001b[39m … \u001b[35m114.997 ms\u001b[39m  \u001b[90m┊\u001b[39m GC \u001b[90m(\u001b[39mmin … max\u001b[90m): \u001b[39m 5.66% … 16.95%\n",
       " Time  \u001b[90m(\u001b[39m\u001b[34m\u001b[1mmedian\u001b[22m\u001b[39m\u001b[90m):     \u001b[39m\u001b[34m\u001b[1m98.783 ms               \u001b[22m\u001b[39m\u001b[90m┊\u001b[39m GC \u001b[90m(\u001b[39mmedian\u001b[90m):    \u001b[39m15.68%\n",
       " Time  \u001b[90m(\u001b[39m\u001b[32m\u001b[1mmean\u001b[22m\u001b[39m ± \u001b[32mσ\u001b[39m\u001b[90m):   \u001b[39m\u001b[32m\u001b[1m98.238 ms\u001b[22m\u001b[39m ± \u001b[32m  8.137 ms\u001b[39m  \u001b[90m┊\u001b[39m GC \u001b[90m(\u001b[39mmean ± σ\u001b[90m):  \u001b[39m14.28% ±  6.08%\n",
       "\n",
       "  \u001b[39m▃\u001b[39m \u001b[39m \u001b[39m█\u001b[39m \u001b[39m \u001b[39m \u001b[39m \u001b[39m▃\u001b[39m \u001b[39m \u001b[39m \u001b[39m \u001b[39m \u001b[39m█\u001b[39m \u001b[39m \u001b[39m \u001b[39m \u001b[39m \u001b[39m \u001b[39m \u001b[39m \u001b[39m \u001b[39m█\u001b[39m \u001b[39m \u001b[34m \u001b[39m\u001b[39m▃\u001b[39m \u001b[39m \u001b[39m \u001b[39m \u001b[39m \u001b[39m▃\u001b[39m \u001b[39m \u001b[39m▃\u001b[39m \u001b[39m▃\u001b[39m▃\u001b[39m▃\u001b[39m \u001b[39m█\u001b[39m \u001b[39m \u001b[39m \u001b[39m█\u001b[39m \u001b[39m \u001b[39m \u001b[39m \u001b[39m \u001b[39m \u001b[39m \u001b[39m \u001b[39m \u001b[39m \u001b[39m \u001b[39m \u001b[39m \u001b[39m \n",
       "  \u001b[39m█\u001b[39m▇\u001b[39m▁\u001b[39m█\u001b[39m▇\u001b[39m▇\u001b[39m▁\u001b[39m▇\u001b[39m█\u001b[39m▇\u001b[39m▇\u001b[39m▁\u001b[39m▁\u001b[39m▇\u001b[39m█\u001b[39m▁\u001b[39m▁\u001b[39m▁\u001b[39m▇\u001b[39m▁\u001b[39m▇\u001b[39m▁\u001b[39m▁\u001b[39m▇\u001b[39m█\u001b[39m▁\u001b[39m▇\u001b[34m▇\u001b[39m\u001b[39m█\u001b[39m▁\u001b[39m▇\u001b[39m▇\u001b[39m▁\u001b[39m▇\u001b[39m█\u001b[39m▁\u001b[39m▇\u001b[39m█\u001b[39m▁\u001b[39m█\u001b[39m█\u001b[39m█\u001b[39m▁\u001b[39m█\u001b[39m▁\u001b[39m▁\u001b[39m▁\u001b[39m█\u001b[39m▁\u001b[39m▇\u001b[39m▇\u001b[39m▁\u001b[39m▁\u001b[39m▁\u001b[39m▁\u001b[39m▁\u001b[39m▁\u001b[39m▁\u001b[39m▁\u001b[39m▇\u001b[39m \u001b[39m▁\n",
       "  85.2 ms\u001b[90m         Histogram: frequency by time\u001b[39m          114 ms \u001b[0m\u001b[1m<\u001b[22m\n",
       "\n",
       " Memory estimate\u001b[90m: \u001b[39m\u001b[33m49.03 MiB\u001b[39m, allocs estimate\u001b[90m: \u001b[39m\u001b[33m1447478\u001b[39m."
      ]
     },
     "execution_count": 15,
     "metadata": {},
     "output_type": "execute_result"
    }
   ],
   "source": [
    "@benchmark part_2(input)"
   ]
  },
  {
   "cell_type": "code",
   "execution_count": null,
   "id": "66515bd5",
   "metadata": {},
   "outputs": [],
   "source": []
  },
  {
   "cell_type": "code",
   "execution_count": null,
   "id": "2c5828d1",
   "metadata": {},
   "outputs": [],
   "source": []
  }
 ],
 "metadata": {
  "kernelspec": {
   "display_name": "Julia 1.6.3",
   "language": "julia",
   "name": "julia-1.6"
  },
  "language_info": {
   "file_extension": ".jl",
   "mimetype": "application/julia",
   "name": "julia",
   "version": "1.6.3"
  }
 },
 "nbformat": 4,
 "nbformat_minor": 5
}
