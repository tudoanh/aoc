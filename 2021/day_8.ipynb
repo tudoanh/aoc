{
 "cells": [
  {
   "cell_type": "code",
   "execution_count": 1,
   "id": "58022f57",
   "metadata": {},
   "outputs": [],
   "source": [
    "using BenchmarkTools"
   ]
  },
  {
   "cell_type": "code",
   "execution_count": 2,
   "id": "ecae12f7",
   "metadata": {},
   "outputs": [],
   "source": [
    "input = split.(readlines(\"./inputs/day_8.txt\"), \" | \");"
   ]
  },
  {
   "cell_type": "code",
   "execution_count": 3,
   "id": "3799eae8",
   "metadata": {},
   "outputs": [],
   "source": [
    "# Part 1"
   ]
  },
  {
   "cell_type": "code",
   "execution_count": 4,
   "id": "f7276dba",
   "metadata": {},
   "outputs": [
    {
     "data": {
      "text/plain": [
       "str_diff (generic function with 1 method)"
      ]
     },
     "execution_count": 4,
     "metadata": {},
     "output_type": "execute_result"
    }
   ],
   "source": [
    "function str_diff(s1, s2)\n",
    "    length(symdiff(split(s1, \"\"), split(s2, \"\")))\n",
    "end"
   ]
  },
  {
   "cell_type": "code",
   "execution_count": 5,
   "id": "619b230c",
   "metadata": {},
   "outputs": [
    {
     "data": {
      "text/plain": [
       "fix_input (generic function with 1 method)"
      ]
     },
     "execution_count": 5,
     "metadata": {},
     "output_type": "execute_result"
    }
   ],
   "source": [
    "function fix_input(input)\n",
    "    map = Dict()\n",
    "    input = sort(input, by=x -> length(x))\n",
    "    for i in input\n",
    "        len = length(i)\n",
    "        if len == 2\n",
    "            map[1] = i\n",
    "        elseif len == 4\n",
    "            map[4] = i\n",
    "        elseif len == 3\n",
    "            map[7] = i\n",
    "        elseif len == 7\n",
    "            map[8] = i\n",
    "        elseif len == 6\n",
    "            if str_diff(i, map[5]) == 3 && str_diff(i, map[4]) == 4\n",
    "                map[0] = i\n",
    "            elseif str_diff(i, map[5]) == 1 && str_diff(i, map[4]) == 4\n",
    "                map[6] = i\n",
    "            elseif str_diff(i, map[5]) == 1 && str_diff(i, map[4]) == 2\n",
    "                map[9] = i\n",
    "            end\n",
    "        elseif len == 5\n",
    "            if str_diff(i, map[1]) == 5 && str_diff(i, map[4]) == 5\n",
    "                map[2] = i\n",
    "            elseif str_diff(i, map[1]) == 5 && str_diff(i, map[4]) == 3\n",
    "                map[5] = i\n",
    "            elseif str_diff(i, map[1]) == 3\n",
    "                map[3] = i\n",
    "            end\n",
    "        end\n",
    "    end\n",
    "    # @show map\n",
    "    map\n",
    "end"
   ]
  },
  {
   "cell_type": "code",
   "execution_count": 6,
   "id": "0d24822a",
   "metadata": {},
   "outputs": [
    {
     "data": {
      "text/plain": [
       "2-element Vector{SubString{String}}:\n",
       " \"eb cbgfae cabdf fedab efb adgcef cbgaefd egdb dbgefa eafgd\"\n",
       " \"dfbae be gdafe gcefab\""
      ]
     },
     "execution_count": 6,
     "metadata": {},
     "output_type": "execute_result"
    }
   ],
   "source": [
    "_in, _out = input[1]"
   ]
  },
  {
   "cell_type": "code",
   "execution_count": 7,
   "id": "e6c29ebe",
   "metadata": {},
   "outputs": [
    {
     "data": {
      "text/plain": [
       "Dict{Any, Any} with 10 entries:\n",
       "  5 => \"eafgd\"\n",
       "  4 => \"egdb\"\n",
       "  0 => \"cbgfae\"\n",
       "  7 => \"efb\"\n",
       "  2 => \"cabdf\"\n",
       "  6 => \"adgcef\"\n",
       "  9 => \"dbgefa\"\n",
       "  8 => \"cbgaefd\"\n",
       "  3 => \"fedab\"\n",
       "  1 => \"eb\""
      ]
     },
     "execution_count": 7,
     "metadata": {},
     "output_type": "execute_result"
    }
   ],
   "source": [
    "fix_input(split(_in, \" \"))"
   ]
  },
  {
   "cell_type": "code",
   "execution_count": 8,
   "id": "3141ccd5",
   "metadata": {},
   "outputs": [
    {
     "data": {
      "text/plain": [
       "invertdict (generic function with 1 method)"
      ]
     },
     "execution_count": 8,
     "metadata": {},
     "output_type": "execute_result"
    }
   ],
   "source": [
    "function invertdict(d)\n",
    "    inverse = Dict()\n",
    "    for key in keys(d)\n",
    "        val = d[key]\n",
    "        if val ∉ keys(inverse)\n",
    "            inverse[val] = key\n",
    "        else\n",
    "            push!(inverse[val], key)\n",
    "        end\n",
    "    end\n",
    "    inverse\n",
    "end"
   ]
  },
  {
   "cell_type": "code",
   "execution_count": 9,
   "id": "4aa6000d",
   "metadata": {},
   "outputs": [
    {
     "data": {
      "text/plain": [
       "310"
      ]
     },
     "execution_count": 9,
     "metadata": {},
     "output_type": "execute_result"
    }
   ],
   "source": [
    "# Part 1\n",
    "function part_1(input)  \n",
    "    count = 0\n",
    "    for pair in input\n",
    "        _in, _out = pair\n",
    "         map = invertdict(fix_input(split(_in, \" \")))\n",
    "        _out = split(_out, \" \")\n",
    "        for n in _out\n",
    "            for c in keys(map)\n",
    "                if map[c] ∈ [1, 4, 7, 8]\n",
    "                    if issetequal(n, c)\n",
    "                        count += 1\n",
    "                    end\n",
    "                end\n",
    "            end\n",
    "        end\n",
    "    end\n",
    "    count\n",
    "end\n",
    "\n",
    "part_1(input)"
   ]
  },
  {
   "cell_type": "code",
   "execution_count": 10,
   "id": "0d136f9d",
   "metadata": {},
   "outputs": [],
   "source": [
    "# Part 2"
   ]
  },
  {
   "cell_type": "code",
   "execution_count": 11,
   "id": "0ff5cd2c",
   "metadata": {
    "scrolled": true
   },
   "outputs": [
    {
     "data": {
      "text/plain": [
       "915941"
      ]
     },
     "execution_count": 11,
     "metadata": {},
     "output_type": "execute_result"
    }
   ],
   "source": [
    "function part_2(input)\n",
    "    res = 0\n",
    "    for i in input\n",
    "        _in, _out = i\n",
    "        map = invertdict(fix_input(split(_in, \" \")))\n",
    "        _out = split(_out, \" \")\n",
    "        numb = \"\"\n",
    "        for n in _out\n",
    "            for c in keys(map)\n",
    "                if issetequal(n, c)\n",
    "                    numb = string(numb, map[c])\n",
    "                end\n",
    "            end\n",
    "        end\n",
    "        res += parse(Int64, numb)\n",
    "    end\n",
    "    res\n",
    "end\n",
    "\n",
    "part_2(input)"
   ]
  },
  {
   "cell_type": "code",
   "execution_count": 12,
   "id": "6e8dfaf9",
   "metadata": {},
   "outputs": [
    {
     "data": {
      "text/plain": [
       "BenchmarkTools.Trial: 591 samples with 1 evaluation.\n",
       " Range \u001b[90m(\u001b[39m\u001b[36m\u001b[1mmin\u001b[22m\u001b[39m … \u001b[35mmax\u001b[39m\u001b[90m):  \u001b[39m\u001b[36m\u001b[1m7.432 ms\u001b[22m\u001b[39m … \u001b[35m13.999 ms\u001b[39m  \u001b[90m┊\u001b[39m GC \u001b[90m(\u001b[39mmin … max\u001b[90m): \u001b[39m0.00% … 26.88%\n",
       " Time  \u001b[90m(\u001b[39m\u001b[34m\u001b[1mmedian\u001b[22m\u001b[39m\u001b[90m):     \u001b[39m\u001b[34m\u001b[1m7.661 ms              \u001b[22m\u001b[39m\u001b[90m┊\u001b[39m GC \u001b[90m(\u001b[39mmedian\u001b[90m):    \u001b[39m0.00%\n",
       " Time  \u001b[90m(\u001b[39m\u001b[32m\u001b[1mmean\u001b[22m\u001b[39m ± \u001b[32mσ\u001b[39m\u001b[90m):   \u001b[39m\u001b[32m\u001b[1m8.455 ms\u001b[22m\u001b[39m ± \u001b[32m 1.355 ms\u001b[39m  \u001b[90m┊\u001b[39m GC \u001b[90m(\u001b[39mmean ± σ\u001b[90m):  \u001b[39m7.85% ± 11.32%\n",
       "\n",
       "  \u001b[39m▅\u001b[39m█\u001b[39m▇\u001b[34m▅\u001b[39m\u001b[39m▃\u001b[39m▂\u001b[39m \u001b[39m \u001b[39m \u001b[39m \u001b[39m \u001b[39m \u001b[39m \u001b[32m \u001b[39m\u001b[39m \u001b[39m \u001b[39m \u001b[39m \u001b[39m \u001b[39m \u001b[39m \u001b[39m \u001b[39m \u001b[39m \u001b[39m \u001b[39m \u001b[39m \u001b[39m \u001b[39m \u001b[39m \u001b[39m \u001b[39m \u001b[39m \u001b[39m \u001b[39m \u001b[39m \u001b[39m▃\u001b[39m▃\u001b[39m▃\u001b[39m▂\u001b[39m \u001b[39m \u001b[39m \u001b[39m \u001b[39m \u001b[39m \u001b[39m \u001b[39m \u001b[39m \u001b[39m \u001b[39m \u001b[39m \u001b[39m \u001b[39m \u001b[39m \u001b[39m \u001b[39m \u001b[39m \u001b[39m \u001b[39m \n",
       "  \u001b[39m█\u001b[39m█\u001b[39m█\u001b[34m█\u001b[39m\u001b[39m█\u001b[39m█\u001b[39m█\u001b[39m▇\u001b[39m▇\u001b[39m▇\u001b[39m▆\u001b[39m▄\u001b[39m▆\u001b[32m▄\u001b[39m\u001b[39m▆\u001b[39m▄\u001b[39m▄\u001b[39m▅\u001b[39m▄\u001b[39m▁\u001b[39m▄\u001b[39m▁\u001b[39m▆\u001b[39m▁\u001b[39m▁\u001b[39m▅\u001b[39m▅\u001b[39m▅\u001b[39m▁\u001b[39m▄\u001b[39m▁\u001b[39m▄\u001b[39m▁\u001b[39m▄\u001b[39m▆\u001b[39m█\u001b[39m█\u001b[39m█\u001b[39m█\u001b[39m█\u001b[39m█\u001b[39m▇\u001b[39m▇\u001b[39m▄\u001b[39m▅\u001b[39m█\u001b[39m▅\u001b[39m▄\u001b[39m▄\u001b[39m▁\u001b[39m▄\u001b[39m▁\u001b[39m▁\u001b[39m▁\u001b[39m▁\u001b[39m▅\u001b[39m▅\u001b[39m▄\u001b[39m \u001b[39m▇\n",
       "  7.43 ms\u001b[90m      \u001b[39m\u001b[90mHistogram: \u001b[39m\u001b[90m\u001b[1mlog(\u001b[22m\u001b[39m\u001b[90mfrequency\u001b[39m\u001b[90m\u001b[1m)\u001b[22m\u001b[39m\u001b[90m by time\u001b[39m       12 ms \u001b[0m\u001b[1m<\u001b[22m\n",
       "\n",
       " Memory estimate\u001b[90m: \u001b[39m\u001b[33m10.22 MiB\u001b[39m, allocs estimate\u001b[90m: \u001b[39m\u001b[33m98034\u001b[39m."
      ]
     },
     "execution_count": 12,
     "metadata": {},
     "output_type": "execute_result"
    }
   ],
   "source": [
    "@benchmark part_1(input)"
   ]
  },
  {
   "cell_type": "code",
   "execution_count": 13,
   "id": "18f625c8",
   "metadata": {},
   "outputs": [
    {
     "data": {
      "text/plain": [
       "BenchmarkTools.Trial: 510 samples with 1 evaluation.\n",
       " Range \u001b[90m(\u001b[39m\u001b[36m\u001b[1mmin\u001b[22m\u001b[39m … \u001b[35mmax\u001b[39m\u001b[90m):  \u001b[39m\u001b[36m\u001b[1m8.623 ms\u001b[22m\u001b[39m … \u001b[35m14.450 ms\u001b[39m  \u001b[90m┊\u001b[39m GC \u001b[90m(\u001b[39mmin … max\u001b[90m): \u001b[39m0.00% … 21.62%\n",
       " Time  \u001b[90m(\u001b[39m\u001b[34m\u001b[1mmedian\u001b[22m\u001b[39m\u001b[90m):     \u001b[39m\u001b[34m\u001b[1m8.843 ms              \u001b[22m\u001b[39m\u001b[90m┊\u001b[39m GC \u001b[90m(\u001b[39mmedian\u001b[90m):    \u001b[39m0.00%\n",
       " Time  \u001b[90m(\u001b[39m\u001b[32m\u001b[1mmean\u001b[22m\u001b[39m ± \u001b[32mσ\u001b[39m\u001b[90m):   \u001b[39m\u001b[32m\u001b[1m9.786 ms\u001b[22m\u001b[39m ± \u001b[32m 1.520 ms\u001b[39m  \u001b[90m┊\u001b[39m GC \u001b[90m(\u001b[39mmean ± σ\u001b[90m):  \u001b[39m9.28% ± 11.87%\n",
       "\n",
       "  \u001b[39m▆\u001b[39m█\u001b[39m▇\u001b[34m▄\u001b[39m\u001b[39m▄\u001b[39m \u001b[39m \u001b[39m \u001b[39m \u001b[39m \u001b[39m \u001b[39m \u001b[39m \u001b[39m \u001b[39m \u001b[32m \u001b[39m\u001b[39m \u001b[39m \u001b[39m \u001b[39m \u001b[39m \u001b[39m \u001b[39m \u001b[39m \u001b[39m \u001b[39m \u001b[39m \u001b[39m \u001b[39m \u001b[39m \u001b[39m \u001b[39m \u001b[39m \u001b[39m \u001b[39m \u001b[39m \u001b[39m \u001b[39m \u001b[39m \u001b[39m \u001b[39m▄\u001b[39m▄\u001b[39m▄\u001b[39m▂\u001b[39m▁\u001b[39m \u001b[39m \u001b[39m \u001b[39m \u001b[39m \u001b[39m \u001b[39m \u001b[39m \u001b[39m \u001b[39m \u001b[39m \u001b[39m \u001b[39m \u001b[39m \u001b[39m \n",
       "  \u001b[39m█\u001b[39m█\u001b[39m█\u001b[34m█\u001b[39m\u001b[39m█\u001b[39m█\u001b[39m▄\u001b[39m▅\u001b[39m▆\u001b[39m▄\u001b[39m▁\u001b[39m▅\u001b[39m▄\u001b[39m▄\u001b[39m▁\u001b[32m▁\u001b[39m\u001b[39m▁\u001b[39m▁\u001b[39m▁\u001b[39m▁\u001b[39m▁\u001b[39m▁\u001b[39m▁\u001b[39m▁\u001b[39m▁\u001b[39m▁\u001b[39m▅\u001b[39m▁\u001b[39m▄\u001b[39m▄\u001b[39m▁\u001b[39m▄\u001b[39m▁\u001b[39m▁\u001b[39m▁\u001b[39m▄\u001b[39m▁\u001b[39m▄\u001b[39m▄\u001b[39m█\u001b[39m█\u001b[39m█\u001b[39m█\u001b[39m█\u001b[39m█\u001b[39m█\u001b[39m▆\u001b[39m▇\u001b[39m▅\u001b[39m▄\u001b[39m▄\u001b[39m▁\u001b[39m▁\u001b[39m▄\u001b[39m▄\u001b[39m▁\u001b[39m▁\u001b[39m▄\u001b[39m \u001b[39m▇\n",
       "  8.62 ms\u001b[90m      \u001b[39m\u001b[90mHistogram: \u001b[39m\u001b[90m\u001b[1mlog(\u001b[22m\u001b[39m\u001b[90mfrequency\u001b[39m\u001b[90m\u001b[1m)\u001b[22m\u001b[39m\u001b[90m by time\u001b[39m     13.3 ms \u001b[0m\u001b[1m<\u001b[22m\n",
       "\n",
       " Memory estimate\u001b[90m: \u001b[39m\u001b[33m12.54 MiB\u001b[39m, allocs estimate\u001b[90m: \u001b[39m\u001b[33m124766\u001b[39m."
      ]
     },
     "execution_count": 13,
     "metadata": {},
     "output_type": "execute_result"
    }
   ],
   "source": [
    "@benchmark part_2(input)"
   ]
  },
  {
   "cell_type": "code",
   "execution_count": null,
   "id": "0e657e5c",
   "metadata": {},
   "outputs": [],
   "source": []
  }
 ],
 "metadata": {
  "kernelspec": {
   "display_name": "Julia 1.6.3",
   "language": "julia",
   "name": "julia-1.6"
  },
  "language_info": {
   "file_extension": ".jl",
   "mimetype": "application/julia",
   "name": "julia",
   "version": "1.6.3"
  }
 },
 "nbformat": 4,
 "nbformat_minor": 5
}
